{
 "cells": [
  {
   "cell_type": "code",
   "execution_count": 1,
   "metadata": {},
   "outputs": [],
   "source": [
    "from tensorflow.keras.models import Sequential\n",
    "from tensorflow.keras.layers import Dense, Dropout, Activation, Flatten\n",
    "from tensorflow.keras.layers import Conv2D, MaxPooling2D\n",
    "# more info on callbakcs: https://keras.io/callbacks/ model saver is cool too.\n",
    "from tensorflow.keras.callbacks import TensorBoard\n",
    "import pickle\n",
    "import time\n"
   ]
  },
  {
   "cell_type": "code",
   "execution_count": 2,
   "metadata": {},
   "outputs": [],
   "source": [
    "pickle_in = open(\"X.pickle\",\"rb\")\n",
    "X = pickle.load(pickle_in)\n",
    "\n",
    "pickle_in = open(\"y.pickle\",\"rb\")\n",
    "y = pickle.load(pickle_in)\n",
    "\n",
    "X = X/255.0\n",
    "\n",
    "dense_layers = [0]\n",
    "layer_sizes = [64]\n",
    "conv_layers = [3]\n"
   ]
  },
  {
   "cell_type": "code",
   "execution_count": 3,
   "metadata": {},
   "outputs": [
    {
     "name": "stdout",
     "output_type": "stream",
     "text": [
      "3-conv-64-nodes-0-dense-1556283802\n",
      "WARNING:tensorflow:From C:\\Users\\nafiu\\Anaconda3\\envs\\pro\\lib\\site-packages\\tensorflow\\python\\ops\\resource_variable_ops.py:435: colocate_with (from tensorflow.python.framework.ops) is deprecated and will be removed in a future version.\n",
      "Instructions for updating:\n",
      "Colocations handled automatically by placer.\n",
      "Train on 17462 samples, validate on 7484 samples\n",
      "WARNING:tensorflow:From C:\\Users\\nafiu\\Anaconda3\\envs\\pro\\lib\\site-packages\\tensorflow\\python\\ops\\math_ops.py:3066: to_int32 (from tensorflow.python.ops.math_ops) is deprecated and will be removed in a future version.\n",
      "Instructions for updating:\n",
      "Use tf.cast instead.\n",
      "Epoch 1/10\n",
      "17462/17462 [==============================] - 200s 11ms/sample - loss: 0.6507 - acc: 0.6116 - val_loss: 0.5909 - val_acc: 0.6864\n",
      "Epoch 2/10\n",
      "17462/17462 [==============================] - 189s 11ms/sample - loss: 0.5683 - acc: 0.7034 - val_loss: 0.5297 - val_acc: 0.7368\n",
      "Epoch 3/10\n",
      "17462/17462 [==============================] - 196s 11ms/sample - loss: 0.5060 - acc: 0.7536 - val_loss: 0.4926 - val_acc: 0.7671\n",
      "Epoch 4/10\n",
      "17462/17462 [==============================] - 177s 10ms/sample - loss: 0.4708 - acc: 0.7755 - val_loss: 0.4786 - val_acc: 0.7700\n",
      "Epoch 5/10\n",
      "17462/17462 [==============================] - 177s 10ms/sample - loss: 0.4376 - acc: 0.7952 - val_loss: 0.4617 - val_acc: 0.7857\n",
      "Epoch 6/10\n",
      "17462/17462 [==============================] - 178s 10ms/sample - loss: 0.4046 - acc: 0.8133 - val_loss: 0.4460 - val_acc: 0.7945\n",
      "Epoch 7/10\n",
      "17462/17462 [==============================] - 177s 10ms/sample - loss: 0.3822 - acc: 0.8252 - val_loss: 0.4445 - val_acc: 0.7883\n",
      "Epoch 8/10\n",
      "17462/17462 [==============================] - 178s 10ms/sample - loss: 0.3553 - acc: 0.8433 - val_loss: 0.4495 - val_acc: 0.7912\n",
      "Epoch 9/10\n",
      "17462/17462 [==============================] - 177s 10ms/sample - loss: 0.3309 - acc: 0.8528 - val_loss: 0.4402 - val_acc: 0.7982\n",
      "Epoch 10/10\n",
      "17462/17462 [==============================] - 178s 10ms/sample - loss: 0.3123 - acc: 0.8649 - val_loss: 0.4384 - val_acc: 0.8017\n"
     ]
    }
   ],
   "source": [
    "for dense_layer in dense_layers:\n",
    "    for layer_size in layer_sizes:\n",
    "        for conv_layer in conv_layers:\n",
    "            NAME = \"{}-conv-{}-nodes-{}-dense-{}\".format(conv_layer, layer_size, dense_layer, int(time.time()))\n",
    "            print(NAME)\n",
    "\n",
    "            model = Sequential()\n",
    "\n",
    "            model.add(Conv2D(layer_size, (3, 3), input_shape=X.shape[1:]))\n",
    "            model.add(Activation('relu'))\n",
    "            model.add(MaxPooling2D(pool_size=(2, 2)))\n",
    "\n",
    "            for l in range(conv_layer-1):\n",
    "                model.add(Conv2D(layer_size, (3, 3)))\n",
    "                model.add(Activation('relu'))\n",
    "                model.add(MaxPooling2D(pool_size=(2, 2)))\n",
    "\n",
    "            model.add(Flatten())\n",
    "\n",
    "            for _ in range(dense_layer):\n",
    "                model.add(Dense(layer_size))\n",
    "                model.add(Activation('relu'))\n",
    "\n",
    "            model.add(Dense(1))\n",
    "            model.add(Activation('sigmoid'))\n",
    "\n",
    "            tensorboard = TensorBoard(log_dir=\"logs/{}\".format(NAME))\n",
    "\n",
    "            model.compile(loss='binary_crossentropy',\n",
    "                          optimizer='adam',\n",
    "                          metrics=['accuracy'],\n",
    "                          )\n",
    "\n",
    "            model.fit(X, y,\n",
    "                      batch_size=32,\n",
    "                      epochs=10,\n",
    "                      validation_split=0.3,\n",
    "                      callbacks=[tensorboard])\n",
    "\n",
    "model.save('64x3-CNN.model')"
   ]
  },
  {
   "cell_type": "code",
   "execution_count": null,
   "metadata": {},
   "outputs": [],
   "source": []
  }
 ],
 "metadata": {
  "kernelspec": {
   "display_name": "Python 3",
   "language": "python",
   "name": "python3"
  },
  "language_info": {
   "codemirror_mode": {
    "name": "ipython",
    "version": 3
   },
   "file_extension": ".py",
   "mimetype": "text/x-python",
   "name": "python",
   "nbconvert_exporter": "python",
   "pygments_lexer": "ipython3",
   "version": "3.6.8"
  }
 },
 "nbformat": 4,
 "nbformat_minor": 2
}
